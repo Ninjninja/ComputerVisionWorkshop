{
 "metadata": {
  "name": "",
  "signature": "sha256:a2050978b620433fc198741e4a15961346a0865f21a7979b50e4ed32c2327588"
 },
 "nbformat": 3,
 "nbformat_minor": 0,
 "worksheets": [
  {
   "cells": [
    {
     "cell_type": "code",
     "collapsed": false,
     "input": [
      "import Leap, sys, thread, time\n",
      "from Leap import CircleGesture, KeyTapGesture, ScreenTapGesture, SwipeGesture\n",
      "from IPython.html.widgets import TextWidget, ImageWidget, HTMLWidget\n",
      "from IPython.display import display\n",
      "import numpy as np\n",
      "import cv2\n",
      "from PIL import Image as PIL_Image\n",
      "from io import BytesIO\n",
      "cv2.startWindowThread()"
     ],
     "language": "python",
     "metadata": {},
     "outputs": [
      {
       "metadata": {},
       "output_type": "pyout",
       "prompt_number": 24,
       "text": [
        "0"
       ]
      }
     ],
     "prompt_number": 24
    },
    {
     "cell_type": "code",
     "collapsed": false,
     "input": [
      "screen_xy =np.float32(\n",
      "[ (606,179), (579,217), (552,258), (523,301), (491,349), (456,401),\n",
      "  (660,201), (636,241), (611,282), (584,327), (554,377), (522,430),\n",
      "  (717,224), (695,264), (672,307), (647,354), (619,404), (689,459),\n",
      "  (773,247), (753,288), (732,332), (709,380), (683,432), (657,489),\n",
      "  (830,272), (812,312), (794,358), (772,408), (750,462), (725,520),\n",
      "  (888,296), (874,338), (856,386), (836,436), (816,492), (796,550),\n",
      "  (948,320), (934,363), (920,412), (902,466), (885,522), (867,583),\n",
      " ])\n",
      "screen_xy2 =np.float32(\n",
      "[ (520,158),(498.5,193),(478,230), (456,268), (434,308), (412,348),\n",
      "  (560,172), (540,210), (520,246), (500,285), (478,326), (456,366),\n",
      "  (602,189), (582,226), (563,264), (544,304), (522,344), (501,386), \n",
      "  (644,206), (626,242), (606,281), (587,320), (566,362), (544,406),\n",
      "  (686,222), (668,260), (650,299), (630,338), (611,380), (591,424),\n",
      "  (729,239), (712,277), (694,317), (676,358), (656,398), (636,442),\n",
      "  (772,256), (755,295), (738,334), (720,376), (702,417), (683,462),\n",
      " ])\n",
      "screen_xy3 =np.float32(\n",
      "[ (692,182), (677,239), (663,298), (648,358), (635,417), (621,479),\n",
      "  (743,185), (729,244), (713,303), (700,365), (685,427), (671,492),\n",
      "  (801,186), (784,247), (771,310), (755,375), (741,439), (727,505),\n",
      "  (861,189), (845,252), (830,317), (816,384), (802,451), (786,521),\n",
      "  (927,191), (911,258), (895,324), (880,393), (865,464), (851,536),\n",
      "  (996,193), (981,263), (966,333), (951,405), (936,479), (921,554),\n",
      "  (1073,195),(1058,268),(1043,342),(1027,417),(1013,494), (998,573),\n",
      " ])\n",
      "screen_xy4 =np.float32(\n",
      "[ (870,448), (885,539), (900,638), \n",
      "  (928,412), (948,508), (969,614),\n",
      "  (999,370), (1024,474), (1050,586),\n",
      " ])\n",
      "screen_xy5 =np.float32(\n",
      "[ (248,113), (162,169), (78,227), \n",
      "  (289,191), (201,250), (113,309),\n",
      "  (333,275), (242,335), (152,397),\n",
      " ])\n",
      "obj_xyz = np.float32([ (i*24.8, j*25, 0) for j in range(7) for i in range(6)])\n",
      "obj_xyz2 = np.float32([ (i*49.6, j*50, 0) for j in range(3) for i in range(3)])\n",
      "retval, cm0, dist0, rvec, tvec = cv2.calibrateCamera([obj_xyz]*3+[obj_xyz2]*2, \n",
      "                                                   [screen_xy, screen_xy2, screen_xy3, screen_xy4, screen_xy5], \n",
      "                                                   (1280,720), \n",
      "                    flags=cv2.CALIB_FIX_PRINCIPAL_POINT)\n",
      "print retval, cm0, dist0, rvec, tvec"
     ],
     "language": "python",
     "metadata": {},
     "outputs": [
      {
       "output_type": "stream",
       "stream": "stdout",
       "text": [
        "7.90872720232 [[  1.25542912e+03   0.00000000e+00   6.39500000e+02]\n",
        " [  0.00000000e+00   1.23283056e+03   3.59500000e+02]\n",
        " [  0.00000000e+00   0.00000000e+00   1.00000000e+00]] [[ 0.54520465 -1.47166739  0.02451086 -0.02110954  1.96975927]] [array([[ 1.41241102],\n",
        "       [ 2.19991658],\n",
        "       [-0.50506866]]), array([[ 1.60779065],\n",
        "       [ 2.46823864],\n",
        "       [-0.42296251]]), array([[-1.71457261],\n",
        "       [-2.09538915],\n",
        "       [ 0.80886066]]), array([[-1.89400434],\n",
        "       [-1.34745604],\n",
        "       [ 1.32235519]]), array([[-0.76873426],\n",
        "       [-2.71257764],\n",
        "       [ 0.44418567]])] [array([[ -15.13952009],\n",
        "       [ -76.82469357],\n",
        "       [ 512.28287714]]), array([[ -65.59275105],\n",
        "       [-113.30575159],\n",
        "       [ 689.41154446]]), array([[  20.91618997],\n",
        "       [ -72.6774998 ],\n",
        "       [ 501.91441598]]), array([[ 120.41923749],\n",
        "       [  45.88333541],\n",
        "       [ 666.57646699]]), array([[-182.78711496],\n",
        "       [-120.43544533],\n",
        "       [ 620.2542912 ]])]\n"
       ]
      }
     ],
     "prompt_number": 25
    },
    {
     "cell_type": "code",
     "collapsed": false,
     "input": [
      "def img_to_png(ima, cvt=None):\n",
      "    if cvt:\n",
      "        ima = cv2.cvtColor(ima, cvt)\n",
      "    im = PIL_Image.fromarray(ima)\n",
      "    bio = BytesIO()\n",
      "    im.save(bio, format='png')\n",
      "    return bio.getvalue()"
     ],
     "language": "python",
     "metadata": {},
     "outputs": [],
     "prompt_number": 26
    },
    {
     "cell_type": "code",
     "collapsed": false,
     "input": [
      "controller = Leap.Controller()"
     ],
     "language": "python",
     "metadata": {},
     "outputs": [],
     "prompt_number": 27
    },
    {
     "cell_type": "code",
     "collapsed": false,
     "input": [
      "test_pos=[(0.1+(1.0*i/4)*0.8,0.1+(1.0*j/2)*0.8) for i in range(5) for j in range(3)]"
     ],
     "language": "python",
     "metadata": {},
     "outputs": [],
     "prompt_number": 28
    },
    {
     "cell_type": "code",
     "collapsed": false,
     "input": [
      "cm=None"
     ],
     "language": "python",
     "metadata": {},
     "outputs": [],
     "prompt_number": 29
    },
    {
     "cell_type": "code",
     "collapsed": false,
     "input": [
      "# some inital parameters\n",
      "cm=np.float32([[  1.25542912e+03,   0.00000000e+00,   6.39500000e+02],\n",
      "       [  0.00000000e+00,   1.23283056e+03,   3.59500000e+02],\n",
      "       [  0.00000000e+00,   0.00000000e+00,   1.00000000e+00]])\n",
      "dist=np.float32([[ 0.54520465, -1.47166739,  0.02451086, -0.02110954,  1.96975927]])\n",
      "tvec=[np.float32([[ 0.03590161],\n",
      "       [-0.6163393 ],\n",
      "       [-3.06629999]])]\n",
      "rvec=[np.float32([[  -1.86198648],\n",
      "       [ 262.13185195],\n",
      "       [ 282.57265977]])]"
     ],
     "language": "python",
     "metadata": {},
     "outputs": [],
     "prompt_number": 14
    },
    {
     "cell_type": "code",
     "collapsed": false,
     "input": [
      "# some initial paraeters\n",
      "array = np.float32\n",
      "cm=array([[  1.03861216e+03,   0.00000000e+00,   4.59025722e+02],\n",
      "       [  0.00000000e+00,   1.00144358e+03,  -2.26439503e+01],\n",
      "       [  0.00000000e+00,   0.00000000e+00,   1.00000000e+00]])\n",
      "dist=array([[ 0.10414326, -0.52876669, -0.01789585,  0.00671249,  0.25075185]])\n",
      "tvec=[array([[-0.15562133],\n",
      "       [-1.00533923],\n",
      "       [-2.89834584]])]\n",
      "rvec=[array([[  18.30289231],\n",
      "       [ 322.14326406],\n",
      "       [ 119.28120961]])]"
     ],
     "language": "python",
     "metadata": {},
     "outputs": [],
     "prompt_number": 6
    },
    {
     "cell_type": "code",
     "collapsed": false,
     "input": [
      "result = []\n",
      "screen_pos = []\n",
      "cap = cv2.VideoCapture(0)\n",
      "controller.set_policy_flags(Leap.Controller.POLICY_BACKGROUND_FRAMES)\n",
      "txt = TextWidget()\n",
      "txt.set_css({\"width\":\"800px\"})\n",
      "display(txt)\n",
      "hand1txt = TextWidget()\n",
      "hand1txt.set_css({\"width\":\"800px\"})\n",
      "display(hand1txt)\n",
      "#img_widget = ImageWidget(width=600)\n",
      "#display(img_widget)\n",
      "idx = 0\n",
      "while True:\n",
      "    ret, img = cap.read()\n",
      "    # img = cv2.resize(img, (960,540))\n",
      "    H, W = img.shape[:2]\n",
      "    #cv2.circle(img, (int(W*0.8), int(H*0.8)), 10, (0,0,255), -1)\n",
      "    \n",
      "    \n",
      "    #img_widget.value = img_to_png(img, cvt=cv2.COLOR_BGR2RGB)\n",
      "    frame = controller.frame()\n",
      "    keycode = cv2.waitKey(1) & 0xff\n",
      "        \n",
      "    txt.value = \"Frame id: %d, hands: %d, fingers: %d, tools: %d, gestures: %d\" % (\n",
      "              i, len(frame.hands), len(frame.fingers), len(frame.tools), len(frame.gestures()))\n",
      "    tip = None\n",
      "    if len(frame.hands)>0:\n",
      "        hand1 = frame.hands[0]\n",
      "        fingers = hand1.fingers.finger_type(1)\n",
      "        if len(fingers):\n",
      "            tip = fingers[0].tip_position\n",
      "            tip_s=\"(%5.1f, %5.1f, %5.1f)\"%(tip[0], tip[1], tip[2])\n",
      "            #cv2.circle(img, (int(400-tip[0]*2), int(H-tip[1]*2)), 10, (0,0,255), -1)\n",
      "            if cm is not None:\n",
      "                xy = cv2.projectPoints(np.float32([(tip[0], tip[1], tip[2])]), rvec[0], tvec[0], cm, dist)[0][0][0]\n",
      "                cv2.circle(img, (int(xy[0]), int(xy[1])), 10, (0,255,0), -1)\n",
      "        else:\n",
      "            tip_s=\"\"\n",
      "        hand1txt.value = \"pinch %5.2f, grab %5.2f, tip %s\"%(hand1.pinch_strength, hand1.grab_strength, tip_s)\n",
      "    else:\n",
      "        hand1txt.value = \"\"\n",
      "    \n",
      "    if  keycode == ord('q'):\n",
      "        break\n",
      "    elif keycode == ord(' '):\n",
      "        if tip:\n",
      "            screen_pos.append((int(test_pos[idx][0]*W), int(test_pos[idx][1]*H)))\n",
      "            result.append((tip[0], tip[1], tip[2]))\n",
      "            idx += 1\n",
      "            if idx >= len(test_pos):\n",
      "                idx = 0\n",
      "    cv2.circle(img, (int(test_pos[idx][0]*W), int(test_pos[idx][1]*H)), 10, (0,0,255) if tip else (255,0,0), -1)\n",
      "    img = cv2.flip(img, 1)\n",
      "    cv2.imshow('frame', img)\n",
      "\n",
      "    #time.sleep(0.3)\n",
      "cv2.destroyWindow('frame')\n",
      "cap.release()\n",
      "controller.clear_policy(Leap.Controller.POLICY_BACKGROUND_FRAMES)"
     ],
     "language": "python",
     "metadata": {},
     "outputs": [],
     "prompt_number": 35
    },
    {
     "cell_type": "code",
     "collapsed": false,
     "input": [
      "controller.enable_gesture(Leap.Gesture.TYPE_SCREEN_TAP)\n",
      "controller.is_gesture_enabled(Leap.Gesture.TYPE_SCREEN_TAP)"
     ],
     "language": "python",
     "metadata": {},
     "outputs": [
      {
       "metadata": {},
       "output_type": "pyout",
       "prompt_number": 7,
       "text": [
        "True"
       ]
      }
     ],
     "prompt_number": 7
    },
    {
     "cell_type": "code",
     "collapsed": false,
     "input": [
      "print screen_pos"
     ],
     "language": "python",
     "metadata": {},
     "outputs": [
      {
       "output_type": "stream",
       "stream": "stdout",
       "text": [
        "[(128, 72), (128, 360), (128, 648), (640, 72), (640, 360), (640, 648), (1152, 72), (1152, 360), (1152, 648)]\n"
       ]
      }
     ],
     "prompt_number": 10
    },
    {
     "cell_type": "code",
     "collapsed": false,
     "input": [
      "img.shape"
     ],
     "language": "python",
     "metadata": {},
     "outputs": [
      {
       "metadata": {},
       "output_type": "pyout",
       "prompt_number": 11,
       "text": [
        "(720, 1280, 3)"
       ]
      }
     ],
     "prompt_number": 11
    },
    {
     "cell_type": "code",
     "collapsed": false,
     "input": [
      "hand1.pinch_strength"
     ],
     "language": "python",
     "metadata": {},
     "outputs": [
      {
       "metadata": {},
       "output_type": "pyout",
       "prompt_number": 12,
       "text": [
        "1.0"
       ]
      }
     ],
     "prompt_number": 12
    },
    {
     "cell_type": "code",
     "collapsed": false,
     "input": [
      "cv2.imshow('frame', img)"
     ],
     "language": "python",
     "metadata": {},
     "outputs": [],
     "prompt_number": 13
    },
    {
     "cell_type": "code",
     "collapsed": false,
     "input": [
      "cv2.destroyAllWindows()"
     ],
     "language": "python",
     "metadata": {},
     "outputs": [],
     "prompt_number": 14
    },
    {
     "cell_type": "code",
     "collapsed": false,
     "input": [
      "W,H, cm0, dist0, cm, dist"
     ],
     "language": "python",
     "metadata": {},
     "outputs": [
      {
       "metadata": {},
       "output_type": "pyout",
       "prompt_number": 25,
       "text": [
        "(1280, 720, array([[  1.25542912e+03,   0.00000000e+00,   1.52301811e+03],\n",
        "        [  0.00000000e+00,   1.23283056e+03,   8.61007986e+02],\n",
        "        [  0.00000000e+00,   0.00000000e+00,   1.00000000e+00]]), array([[ 0.9896609 ,  0.96278123, -0.12145149,  0.13899587, -1.54373026]]), array([[  1.25542912e+03,   0.00000000e+00,   1.52301811e+03],\n",
        "        [  0.00000000e+00,   1.23283056e+03,   8.61007986e+02],\n",
        "        [  0.00000000e+00,   0.00000000e+00,   1.00000000e+00]]), array([[ 0.9896609 ,  0.96278123, -0.12145149,  0.13899587, -1.54373026]]))"
       ]
      }
     ],
     "prompt_number": 25
    },
    {
     "cell_type": "code",
     "collapsed": false,
     "input": [
      "screen_pos2 = [(W-1-x, y) for (x,y) in screen_pos]\n",
      "retval, cm, dist, rvec, tvec = cv2.calibrateCamera(np.float32([result]), \n",
      "                                                   np.float32([screen_pos]), (W, H), cm0.copy(), dist0.copy(),\n",
      "                                                   flags=cv2.CALIB_USE_INTRINSIC_GUESS)\n",
      "print retval, rvec, tvec, cm, dist"
     ],
     "language": "python",
     "metadata": {},
     "outputs": [
      {
       "output_type": "stream",
       "stream": "stdout",
       "text": [
        "26.8715609103 [array([[-0.26427672],\n",
        "       [-0.55774494],\n",
        "       [-3.00818871]])] [array([[  83.29685304],\n",
        "       [ 256.72519277],\n",
        "       [ 348.94659115]])] [[  1.73010332e+03   0.00000000e+00   2.47896386e+02]\n",
        " [  0.00000000e+00   1.62370067e+03   4.57490497e+02]\n",
        " [  0.00000000e+00   0.00000000e+00   1.00000000e+00]] [[-1.17388728  6.16117009 -0.0321941  -0.07398026 -8.2742761 ]]\n"
       ]
      }
     ],
     "prompt_number": 36
    },
    {
     "cell_type": "code",
     "collapsed": false,
     "input": [
      "screen_pos2 = [(W-1-x, y) for (x,y) in screen_pos]\n",
      "retval, rvec, tvec = cv2.solvePnP(np.float32([result]), \n",
      "                                                   np.float32([screen_pos]),  cm0, dist0)\n",
      "cm, dist=cm0, dist0\n",
      "rvec, tvec=[rvec], [tvec]\n",
      "print retval, rvec, tvec, cm"
     ],
     "language": "python",
     "metadata": {},
     "outputs": [
      {
       "output_type": "stream",
       "stream": "stdout",
       "text": [
        "True [array([[ 0.03590161],\n",
        "       [-0.6163393 ],\n",
        "       [-3.06629999]])] [array([[  -1.86198648],\n",
        "       [ 262.13185195],\n",
        "       [ 282.57265977]])] [[  1.25542912e+03   0.00000000e+00   6.39500000e+02]\n",
        " [  0.00000000e+00   1.23283056e+03   3.59500000e+02]\n",
        " [  0.00000000e+00   0.00000000e+00   1.00000000e+00]]\n"
       ]
      }
     ],
     "prompt_number": 48
    },
    {
     "cell_type": "code",
     "collapsed": false,
     "input": [
      "print rvec, tvec, cm, dist"
     ],
     "language": "python",
     "metadata": {},
     "outputs": [
      {
       "output_type": "stream",
       "stream": "stdout",
       "text": [
        "[array([[ 0.03590161],\n",
        "       [-0.6163393 ],\n",
        "       [-3.06629999]])] [array([[  -1.86198648],\n",
        "       [ 262.13185195],\n",
        "       [ 282.57265977]])] [[  1.25542912e+03   0.00000000e+00   6.39500000e+02]\n",
        " [  0.00000000e+00   1.23283056e+03   3.59500000e+02]\n",
        " [  0.00000000e+00   0.00000000e+00   1.00000000e+00]] [[ 0.54520465 -1.47166739  0.02451086 -0.02110954  1.96975927]]\n"
       ]
      }
     ],
     "prompt_number": 63
    },
    {
     "cell_type": "code",
     "collapsed": false,
     "input": [
      "from math import *\n",
      "def rotation(R):\n",
      "    t = np.linalg.norm(R)\n",
      "    u = R/t\n",
      "    uu = u*u.T\n",
      "    I = np.identity(3, dtype=np.float32)\n",
      "    x,y,z = tuple(u.flatten())\n",
      "    ux = np.float32([[0,-z,y],[z,0,-x],[-y,x,0]])\n",
      "    print uu\n",
      "    return cos(t)*I+(1-cos(t))*uu+sin(t)*ux\n",
      "    \n",
      "R=rvec[0]\n",
      "print rotation(R)\n",
      "print cv2.Rodrigues(R)[0]\n",
      "print tvec[0], dist"
     ],
     "language": "python",
     "metadata": {},
     "outputs": [
      {
       "output_type": "stream",
       "stream": "stdout",
       "text": [
        "[[  1.31746769e-04  -2.26175657e-03  -1.12522828e-02]\n",
        " [ -2.26175657e-03   3.88286016e-02   1.93173046e-01]\n",
        " [ -1.12522828e-02   1.93173046e-01   9.61039652e-01]]\n",
        "[[-0.99964193  0.00896219 -0.02521414]\n",
        " [-0.01800878 -0.92225188  0.38616992]\n",
        " [-0.01979286  0.38648571  0.92208296]]\n",
        "[[-0.9996419   0.00896219 -0.02521414]\n",
        " [-0.01800878 -0.92225185  0.38616992]\n",
        " [-0.01979286  0.38648571  0.92208299]]\n",
        "[[  -1.86198648]\n",
        " [ 262.13185195]\n",
        " [ 282.57265977]] [[ 0.54520465 -1.47166739  0.02451086 -0.02110954  1.96975927]]\n"
       ]
      }
     ],
     "prompt_number": 101
    },
    {
     "cell_type": "code",
     "collapsed": false,
     "input": [
      "project([20,299,-20],rvec[0], tvec[0], cm, dist)"
     ],
     "language": "python",
     "metadata": {},
     "outputs": [
      {
       "output_type": "stream",
       "stream": "stdout",
       "text": [
        "result 574.522828129 352.242077678\n"
       ]
      }
     ],
     "prompt_number": 40
    },
    {
     "cell_type": "code",
     "collapsed": true,
     "input": [
      "\n",
      "    \n",
      "    \n",
      "def project(p, R, T, cm, dist):\n",
      "    x,y,z = tuple(np.dot(cv2.Rodrigues(R)[0], np.float32(p))+T.flatten())\n",
      "    if z < 10:\n",
      "        return -1,-1\n",
      "    x1, y1 = x/z, y/z\n",
      "    x1_2, y1_2 = x1*x1, y1*y1\n",
      "    r2 = x1_2 + y1_2\n",
      "    r4 = r2*r2\n",
      "    r6 = r4*r2\n",
      "    xy = 2*x1*y1\n",
      "    k1, k2, p1, p2, k3 = tuple(dist[0])\n",
      "    x2 = x1*(1+k1*r2+k2*r4+k3*r6)+p1*xy+p2*(3*x1_2+y1_2)\n",
      "    y2 = y1*(1+k1*r2+k2*r4+k3*r6)+p2*xy+p1*(x1_2+3*y1_2)\n",
      "    fx, fy, cx, cy = cm[0][0], cm[1][1], cm[0][2], cm[1][2]\n",
      "    u, v = fx*x2+cx, fy*y2+cy \n",
      "    \n",
      "    \n",
      "    print \"result\", u, v\n",
      "    pass\n",
      "    \n",
      "    \n",
      "result2 = cv2.projectPoints(np.float32(result), rvec[0], tvec[0], cm, dist[0])[0]\n",
      "for a,b,c in zip(result2, screen_pos, result):\n",
      "    print a,b\n",
      "    project(c, rvec[0], tvec[0], cm, dist)"
     ],
     "language": "python",
     "metadata": {},
     "outputs": [
      {
       "ename": "NameError",
       "evalue": "name 'result' is not defined",
       "output_type": "pyerr",
       "traceback": [
        "\u001b[0;31m---------------------------------------------------------------------------\u001b[0m\n\u001b[0;31mNameError\u001b[0m                                 Traceback (most recent call last)",
        "\u001b[0;32m<ipython-input-20-1413450a162b>\u001b[0m in \u001b[0;36m<module>\u001b[0;34m()\u001b[0m\n\u001b[1;32m     23\u001b[0m \u001b[0;34m\u001b[0m\u001b[0m\n\u001b[1;32m     24\u001b[0m \u001b[0;34m\u001b[0m\u001b[0m\n\u001b[0;32m---> 25\u001b[0;31m \u001b[0mresult2\u001b[0m \u001b[0;34m=\u001b[0m \u001b[0mcv2\u001b[0m\u001b[0;34m.\u001b[0m\u001b[0mprojectPoints\u001b[0m\u001b[0;34m(\u001b[0m\u001b[0mnp\u001b[0m\u001b[0;34m.\u001b[0m\u001b[0mfloat32\u001b[0m\u001b[0;34m(\u001b[0m\u001b[0mresult\u001b[0m\u001b[0;34m)\u001b[0m\u001b[0;34m,\u001b[0m \u001b[0mrvec\u001b[0m\u001b[0;34m[\u001b[0m\u001b[0;36m0\u001b[0m\u001b[0;34m]\u001b[0m\u001b[0;34m,\u001b[0m \u001b[0mtvec\u001b[0m\u001b[0;34m[\u001b[0m\u001b[0;36m0\u001b[0m\u001b[0;34m]\u001b[0m\u001b[0;34m,\u001b[0m \u001b[0mcm\u001b[0m\u001b[0;34m,\u001b[0m \u001b[0mdist\u001b[0m\u001b[0;34m[\u001b[0m\u001b[0;36m0\u001b[0m\u001b[0;34m]\u001b[0m\u001b[0;34m)\u001b[0m\u001b[0;34m[\u001b[0m\u001b[0;36m0\u001b[0m\u001b[0;34m]\u001b[0m\u001b[0;34m\u001b[0m\u001b[0m\n\u001b[0m\u001b[1;32m     26\u001b[0m \u001b[0;32mfor\u001b[0m \u001b[0ma\u001b[0m\u001b[0;34m,\u001b[0m\u001b[0mb\u001b[0m\u001b[0;34m,\u001b[0m\u001b[0mc\u001b[0m \u001b[0;32min\u001b[0m \u001b[0mzip\u001b[0m\u001b[0;34m(\u001b[0m\u001b[0mresult2\u001b[0m\u001b[0;34m,\u001b[0m \u001b[0mscreen_pos\u001b[0m\u001b[0;34m,\u001b[0m \u001b[0mresult\u001b[0m\u001b[0;34m)\u001b[0m\u001b[0;34m:\u001b[0m\u001b[0;34m\u001b[0m\u001b[0m\n\u001b[1;32m     27\u001b[0m     \u001b[0;32mprint\u001b[0m \u001b[0ma\u001b[0m\u001b[0;34m,\u001b[0m\u001b[0mb\u001b[0m\u001b[0;34m\u001b[0m\u001b[0m\n",
        "\u001b[0;31mNameError\u001b[0m: name 'result' is not defined"
       ]
      }
     ],
     "prompt_number": 20
    },
    {
     "cell_type": "code",
     "collapsed": false,
     "input": [
      "retval, cm"
     ],
     "language": "python",
     "metadata": {},
     "outputs": [
      {
       "metadata": {},
       "output_type": "pyout",
       "prompt_number": 41,
       "text": [
        "(32.199378948556785,\n",
        " array([[  1.25542912e+03,   0.00000000e+00,  -2.51683528e+02],\n",
        "        [  0.00000000e+00,   1.23283056e+03,   8.63848466e+02],\n",
        "        [  0.00000000e+00,   0.00000000e+00,   1.00000000e+00]]))"
       ]
      }
     ],
     "prompt_number": 41
    },
    {
     "cell_type": "code",
     "collapsed": false,
     "input": [
      "cap = cv2.VideoCapture(0)\n",
      "controller.set_policy_flags(Leap.Controller.POLICY_BACKGROUND_FRAMES)\n",
      "txt = TextWidget()\n",
      "txt.set_css({\"width\":\"800px\"})\n",
      "display(txt)\n",
      "hand1txt = TextWidget()\n",
      "hand1txt.set_css({\"width\":\"800px\"})\n",
      "display(hand1txt)\n",
      "def to_np(v):\n",
      "    return np.float32([v[0], v[1], v[2]])\n",
      "def to_tuple(v):\n",
      "    return ([v[0], v[1], v[2]])\n",
      "while True:\n",
      "    ret, img = cap.read()\n",
      "    #img = cv2.resize(img, (960,540))\n",
      "    H, W = img.shape[:2]\n",
      "    frame = controller.frame()\n",
      "    keycode = cv2.waitKey(1) & 0xff\n",
      "        \n",
      "    txt.value = \"Frame id: %d, hands: %d, fingers: %d, tools: %d, gestures: %d\" % (\n",
      "              i, len(frame.hands), len(frame.fingers), len(frame.tools), len(frame.gestures()))\n",
      "    tip = None\n",
      "    for hand1 in frame.hands:\n",
      "        for f in hand1.fingers:\n",
      "            tp = f.tip_position\n",
      "            xy = cv2.projectPoints(np.float32([to_np(tp)]), rvec[0], tvec[0], cm, dist)[0][0][0]\n",
      "            cv2.circle(img, (int(xy[0]), int(xy[1])), 10, (0,255,0), -1)\n",
      "            for bn in range(3):\n",
      "                bone = f.bone(bn)\n",
      "                if bone.is_valid:\n",
      "                    xy1 = cv2.projectPoints(np.float32([to_np(bone.prev_joint)]), rvec[0], tvec[0], cm, dist)[0][0][0]\n",
      "                    xy2 = cv2.projectPoints(np.float32([to_np(bone.next_joint)]), rvec[0], tvec[0], cm, dist)[0][0][0]\n",
      "                    try:\n",
      "                        cv2.line(img, tuple(xy1) , tuple(xy2), (255,255,255) , 3)\n",
      "                        cv2.circle(img, tuple(xy1), 5, (255,255,128), -1)\n",
      "                        cv2.circle(img, tuple(xy2), 5, (255,255,128), -1)\n",
      "                    except:\n",
      "                        pass\n",
      "        fingers = hand1.fingers.finger_type(1)\n",
      "        for f in fingers:\n",
      "            tip = f.tip_position\n",
      "            tip_s=\"(%5.1f, %5.1f, %5.1f)\"%(tip[0], tip[1], tip[2])\n",
      "            xy = cv2.projectPoints(np.float32([(tip[0], tip[1], tip[2])]), rvec[0], tvec[0], cm, dist)[0][0][0]\n",
      "            try:\n",
      "                cv2.circle(img, tuple(xy), 10, (0,0,255), -1)\n",
      "            except:\n",
      "                pass\n",
      "        else:\n",
      "            tip_s=\"\"\n",
      "        hand1txt.value = \"pinch %5.2f, grab %5.2f, tip %s\"%(hand1.pinch_strength, hand1.grab_strength, tip_s)\n",
      "    else:\n",
      "        hand1txt.value = \"\"\n",
      "    \n",
      "    if  keycode == ord('q'):\n",
      "        break\n",
      "    img = cv2.flip(img, 1)\n",
      "    cv2.imshow('frame', img)\n",
      "\n",
      "cv2.destroyWindow('frame')\n",
      "cap.release()\n",
      "controller.clear_policy(Leap.Controller.POLICY_BACKGROUND_FRAMES)"
     ],
     "language": "python",
     "metadata": {},
     "outputs": [],
     "prompt_number": 37
    },
    {
     "cell_type": "code",
     "collapsed": false,
     "input": [
      "W,H"
     ],
     "language": "python",
     "metadata": {},
     "outputs": [
      {
       "metadata": {},
       "output_type": "pyout",
       "prompt_number": 48,
       "text": [
        "(1280, 720)"
       ]
      }
     ],
     "prompt_number": 48
    },
    {
     "cell_type": "code",
     "collapsed": false,
     "input": [
      "cm, dist"
     ],
     "language": "python",
     "metadata": {},
     "outputs": [
      {
       "metadata": {},
       "output_type": "pyout",
       "prompt_number": 31,
       "text": [
        "(array([[  1.25542912e+03,   0.00000000e+00,   1.52301811e+03],\n",
        "        [  0.00000000e+00,   1.23283056e+03,   8.61007986e+02],\n",
        "        [  0.00000000e+00,   0.00000000e+00,   1.00000000e+00]]),\n",
        " array([[ 0.9896609 ,  0.96278123, -0.12145149,  0.13899587, -1.54373026]]))"
       ]
      }
     ],
     "prompt_number": 31
    },
    {
     "cell_type": "code",
     "collapsed": false,
     "input": [
      "cm1, dist1, rvec1, tvec1 = cm.copy(), dist.copy(), [tvec[0].copy()], [rvec[0].copy()]"
     ],
     "language": "python",
     "metadata": {},
     "outputs": [],
     "prompt_number": 39
    },
    {
     "cell_type": "code",
     "collapsed": false,
     "input": [
      "tvec[0], rvec[0]"
     ],
     "language": "python",
     "metadata": {},
     "outputs": [
      {
       "metadata": {},
       "output_type": "pyout",
       "prompt_number": 46,
       "text": [
        "(array([[   1.37275413],\n",
        "        [ 232.95848011],\n",
        "        [ 227.01332068]]), array([[ 0.08543448],\n",
        "        [-0.42373195],\n",
        "        [-3.10790343]]))"
       ]
      }
     ],
     "prompt_number": 46
    },
    {
     "cell_type": "code",
     "collapsed": false,
     "input": [
      "print \"cm=\"+repr(cm1)\n",
      "print \"dist=\"+repr(dist1)\n",
      "print \"tvec=\"+repr(tvec1)\n",
      "print \"rvec=\"+repr(rvec1)"
     ],
     "language": "python",
     "metadata": {},
     "outputs": [
      {
       "output_type": "stream",
       "stream": "stdout",
       "text": [
        "cm=array([[  1.03861216e+03,   0.00000000e+00,   4.59025722e+02],\n",
        "       [  0.00000000e+00,   1.00144358e+03,  -2.26439503e+01],\n",
        "       [  0.00000000e+00,   0.00000000e+00,   1.00000000e+00]])\n",
        "dist=array([[ 0.10414326, -0.52876669, -0.01789585,  0.00671249,  0.25075185]])\n",
        "tvec=[array([[-0.15562133],\n",
        "       [-1.00533923],\n",
        "       [-2.89834584]])]\n",
        "rvec=[array([[  18.30289231],\n",
        "       [ 322.14326406],\n",
        "       [ 119.28120961]])]\n"
       ]
      }
     ],
     "prompt_number": 40
    },
    {
     "cell_type": "code",
     "collapsed": false,
     "input": [
      "dist"
     ],
     "language": "python",
     "metadata": {},
     "outputs": [
      {
       "metadata": {},
       "output_type": "pyout",
       "prompt_number": 54,
       "text": [
        "array([[ 0.54520465, -1.47166739,  0.02451086, -0.02110954,  1.96975927]])"
       ]
      }
     ],
     "prompt_number": 54
    },
    {
     "cell_type": "code",
     "collapsed": false,
     "input": [
      "rvec[0]"
     ],
     "language": "python",
     "metadata": {},
     "outputs": [
      {
       "metadata": {},
       "output_type": "pyout",
       "prompt_number": 57,
       "text": [
        "array([[ 0.03590161],\n",
        "       [-0.6163393 ],\n",
        "       [-3.06629999]])"
       ]
      }
     ],
     "prompt_number": 57
    },
    {
     "cell_type": "code",
     "collapsed": false,
     "input": [
      "np.linalg.norm(rvec[0])"
     ],
     "language": "python",
     "metadata": {},
     "outputs": [
      {
       "metadata": {},
       "output_type": "pyout",
       "prompt_number": 61,
       "text": [
        "3.1278361002574147"
       ]
      }
     ],
     "prompt_number": 61
    },
    {
     "cell_type": "code",
     "collapsed": false,
     "input": [
      "cv2.destroyAllWindows()"
     ],
     "language": "python",
     "metadata": {},
     "outputs": [],
     "prompt_number": 41
    },
    {
     "cell_type": "code",
     "collapsed": false,
     "input": [
      "print \"\"\"\n",
      "    ({r:%s, \n",
      "    t:%s, \n",
      "    k1:%s, k2:%s, k3:%s, p1:%s, p2:%s, \n",
      "    fx:%s, fy:%s, cx:%s, cy:%s})\"\"\"%(list(cv2.Rodrigues(rvec[0])[0].flatten()), \n",
      "                    list(tvec[0].flatten()),\n",
      "                    dist[0][0], dist[0][1], dist[0][4], dist[0][2], dist[0][3],\n",
      "                    cm[0][0], cm[1][1], cm[0][2],cm[1][2]\n",
      "                    )\n",
      "    \n",
      "#x,y,z = tuple(np.dot(cv2.Rodrigues(R)[0], np.float32(p))+T.flatten())\n",
      "\n",
      "#map(float, cm.flatten())\n"
     ],
     "language": "python",
     "metadata": {},
     "outputs": [
      {
       "output_type": "stream",
       "stream": "stdout",
       "text": [
        "\n",
        "    ({r:[-0.98270474575889388, 0.10046337812322131, 0.15555864591535323, -0.038018933647139819, -0.93160560344706023, 0.36147691532153625, 0.18123449822614335, 0.34931090633146478, 0.91931275818983871], \n",
        "    t:[83.296853042942487, 256.72519276755503, 348.946591146267], \n",
        "    k1:-1.1738872833, k2:6.16117008947, k3:-8.27427609968, p1:-0.0321941000394, p2:-0.0739802556975, \n",
        "    fx:1730.10332072, fy:1623.70067172, cx:247.896386316, cy:457.490496922})\n"
       ]
      }
     ],
     "prompt_number": 38
    },
    {
     "cell_type": "code",
     "collapsed": false,
     "input": [
      "project"
     ],
     "language": "python",
     "metadata": {},
     "outputs": []
    }
   ],
   "metadata": {}
  }
 ]
}