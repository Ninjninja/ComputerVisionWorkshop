{
 "cells": [
  {
   "cell_type": "code",
   "execution_count": 5,
   "metadata": {
    "collapsed": false
   },
   "outputs": [
    {
     "data": {
      "text/plain": [
       "0"
      ]
     },
     "execution_count": 5,
     "metadata": {},
     "output_type": "execute_result"
    }
   ],
   "source": [
    "import Leap, sys, time\n",
    "from Leap import CircleGesture, KeyTapGesture, ScreenTapGesture, SwipeGesture\n",
    "from ipywidgets import Text as TextWidget, Image as ImageWidget, HTML as HTMLWidget\n",
    "from IPython.display import display\n",
    "import numpy as np\n",
    "import cv2\n",
    "from PIL import Image as PIL_Image\n",
    "from io import BytesIO\n",
    "cv2.startWindowThread()"
   ]
  },
  {
   "cell_type": "code",
   "execution_count": 11,
   "metadata": {
    "collapsed": false
   },
   "outputs": [
    {
     "name": "stdout",
     "output_type": "stream",
     "text": [
      "7.908430271818274 [[  1.24011990e+03   0.00000000e+00   6.40000000e+02]\n",
      " [  0.00000000e+00   1.21820836e+03   3.60000000e+02]\n",
      " [  0.00000000e+00   0.00000000e+00   1.00000000e+00]] [[ 0.53627097 -1.63353802  0.02294884 -0.02049134  2.61696298]] [array([[ 1.41238852],\n",
      "       [ 2.20001504],\n",
      "       [-0.50500602]]), array([[ 1.60762266],\n",
      "       [ 2.46759174],\n",
      "       [-0.42296107]]), array([[-1.71440561],\n",
      "       [-2.09565536],\n",
      "       [ 0.80719681]]), array([[-1.89266848],\n",
      "       [-1.34515711],\n",
      "       [ 1.32288286]]), array([[-0.77111192],\n",
      "       [-2.71827529],\n",
      "       [ 0.44355385]])] [array([[ -15.31470185],\n",
      "       [ -77.01938535],\n",
      "       [ 506.49114598]]), array([[ -65.87798933],\n",
      "       [-113.54390681],\n",
      "       [ 681.46264923]]), array([[  20.72467455],\n",
      "       [ -72.88646694],\n",
      "       [ 496.52014266]]), array([[ 120.20585861],\n",
      "       [  45.69334622],\n",
      "       [ 658.57858744]]), array([[-183.06234879],\n",
      "       [-120.56033444],\n",
      "       [ 612.13151405]])]\n"
     ]
    }
   ],
   "source": [
    "screen_xy =np.float32(\n",
    "[ (606,179), (579,217), (552,258), (523,301), (491,349), (456,401),\n",
    "  (660,201), (636,241), (611,282), (584,327), (554,377), (522,430),\n",
    "  (717,224), (695,264), (672,307), (647,354), (619,404), (689,459),\n",
    "  (773,247), (753,288), (732,332), (709,380), (683,432), (657,489),\n",
    "  (830,272), (812,312), (794,358), (772,408), (750,462), (725,520),\n",
    "  (888,296), (874,338), (856,386), (836,436), (816,492), (796,550),\n",
    "  (948,320), (934,363), (920,412), (902,466), (885,522), (867,583),\n",
    " ])\n",
    "screen_xy2 =np.float32(\n",
    "[ (520,158),(498.5,193),(478,230), (456,268), (434,308), (412,348),\n",
    "  (560,172), (540,210), (520,246), (500,285), (478,326), (456,366),\n",
    "  (602,189), (582,226), (563,264), (544,304), (522,344), (501,386), \n",
    "  (644,206), (626,242), (606,281), (587,320), (566,362), (544,406),\n",
    "  (686,222), (668,260), (650,299), (630,338), (611,380), (591,424),\n",
    "  (729,239), (712,277), (694,317), (676,358), (656,398), (636,442),\n",
    "  (772,256), (755,295), (738,334), (720,376), (702,417), (683,462),\n",
    " ])\n",
    "screen_xy3 =np.float32(\n",
    "[ (692,182), (677,239), (663,298), (648,358), (635,417), (621,479),\n",
    "  (743,185), (729,244), (713,303), (700,365), (685,427), (671,492),\n",
    "  (801,186), (784,247), (771,310), (755,375), (741,439), (727,505),\n",
    "  (861,189), (845,252), (830,317), (816,384), (802,451), (786,521),\n",
    "  (927,191), (911,258), (895,324), (880,393), (865,464), (851,536),\n",
    "  (996,193), (981,263), (966,333), (951,405), (936,479), (921,554),\n",
    "  (1073,195),(1058,268),(1043,342),(1027,417),(1013,494), (998,573),\n",
    " ])\n",
    "screen_xy4 =np.float32(\n",
    "[ (870,448), (885,539), (900,638), \n",
    "  (928,412), (948,508), (969,614),\n",
    "  (999,370), (1024,474), (1050,586),\n",
    " ])\n",
    "screen_xy5 =np.float32(\n",
    "[ (248,113), (162,169), (78,227), \n",
    "  (289,191), (201,250), (113,309),\n",
    "  (333,275), (242,335), (152,397),\n",
    " ])\n",
    "obj_xyz = np.float32([ (i*24.8, j*25, 0) for j in range(7) for i in range(6)])\n",
    "obj_xyz2 = np.float32([ (i*49.6, j*50, 0) for j in range(3) for i in range(3)])\n",
    "retval, cm0, dist0, rvec, tvec = cv2.calibrateCamera([obj_xyz]*3+[obj_xyz2]*2, \n",
    "                                                   [screen_xy, screen_xy2, screen_xy3, screen_xy4, screen_xy5], \n",
    "                                                   (1280,720), None, None,\n",
    "                    flags=cv2.CALIB_FIX_PRINCIPAL_POINT)\n",
    "print(retval, cm0, dist0, rvec, tvec)"
   ]
  },
  {
   "cell_type": "code",
   "execution_count": 12,
   "metadata": {
    "collapsed": false
   },
   "outputs": [],
   "source": [
    "def img_to_png(ima, cvt=None):\n",
    "    if cvt:\n",
    "        ima = cv2.cvtColor(ima, cvt)\n",
    "    im = PIL_Image.fromarray(ima)\n",
    "    bio = BytesIO()\n",
    "    im.save(bio, format='png')\n",
    "    return bio.getvalue()"
   ]
  },
  {
   "cell_type": "code",
   "execution_count": 13,
   "metadata": {
    "collapsed": false
   },
   "outputs": [],
   "source": [
    "controller = Leap.Controller()"
   ]
  },
  {
   "cell_type": "code",
   "execution_count": 14,
   "metadata": {
    "collapsed": false
   },
   "outputs": [],
   "source": [
    "test_pos=[(0.1+(1.0*i/4)*0.8,0.1+(1.0*j/2)*0.8) for i in range(5) for j in range(3)]"
   ]
  },
  {
   "cell_type": "code",
   "execution_count": 15,
   "metadata": {
    "collapsed": false
   },
   "outputs": [],
   "source": [
    "cm=None"
   ]
  },
  {
   "cell_type": "code",
   "execution_count": 14,
   "metadata": {
    "collapsed": false
   },
   "outputs": [],
   "source": [
    "# some inital parameters\n",
    "cm=np.float32([[  1.25542912e+03,   0.00000000e+00,   6.39500000e+02],\n",
    "       [  0.00000000e+00,   1.23283056e+03,   3.59500000e+02],\n",
    "       [  0.00000000e+00,   0.00000000e+00,   1.00000000e+00]])\n",
    "dist=np.float32([[ 0.54520465, -1.47166739,  0.02451086, -0.02110954,  1.96975927]])\n",
    "tvec=[np.float32([[ 0.03590161],\n",
    "       [-0.6163393 ],\n",
    "       [-3.06629999]])]\n",
    "rvec=[np.float32([[  -1.86198648],\n",
    "       [ 262.13185195],\n",
    "       [ 282.57265977]])]"
   ]
  },
  {
   "cell_type": "code",
   "execution_count": 6,
   "metadata": {
    "collapsed": false
   },
   "outputs": [],
   "source": [
    "# some initial paraeters\n",
    "array = np.float32\n",
    "cm=array([[  1.03861216e+03,   0.00000000e+00,   4.59025722e+02],\n",
    "       [  0.00000000e+00,   1.00144358e+03,  -2.26439503e+01],\n",
    "       [  0.00000000e+00,   0.00000000e+00,   1.00000000e+00]])\n",
    "dist=array([[ 0.10414326, -0.52876669, -0.01789585,  0.00671249,  0.25075185]])\n",
    "tvec=[array([[-0.15562133],\n",
    "       [-1.00533923],\n",
    "       [-2.89834584]])]\n",
    "rvec=[array([[  18.30289231],\n",
    "       [ 322.14326406],\n",
    "       [ 119.28120961]])]"
   ]
  },
  {
   "cell_type": "code",
   "execution_count": 20,
   "metadata": {
    "collapsed": false
   },
   "outputs": [],
   "source": [
    "result = []\n",
    "screen_pos = []\n",
    "cap = cv2.VideoCapture(0)\n",
    "controller.set_policy_flags(Leap.Controller.POLICY_BACKGROUND_FRAMES)\n",
    "txt = TextWidget()\n",
    "#txt.set_css({\"width\":\"800px\"})\n",
    "display(txt)\n",
    "hand1txt = TextWidget()\n",
    "#hand1txt.set_css({\"width\":\"800px\"})\n",
    "display(hand1txt)\n",
    "#img_widget = ImageWidget(width=600)\n",
    "#display(img_widget)\n",
    "idx = 0\n",
    "while True:\n",
    "    ret, img = cap.read()\n",
    "    # img = cv2.resize(img, (960,540))\n",
    "    H, W = img.shape[:2]\n",
    "    #cv2.circle(img, (int(W*0.8), int(H*0.8)), 10, (0,0,255), -1)\n",
    "    \n",
    "    \n",
    "    #img_widget.value = img_to_png(img, cvt=cv2.COLOR_BGR2RGB)\n",
    "    frame = controller.frame()\n",
    "    keycode = cv2.waitKey(1) & 0xff\n",
    "        \n",
    "    txt.value = \"Frame id: %d, hands: %d, fingers: %d, tools: %d, gestures: %d\" % (\n",
    "              0, len(frame.hands), len(frame.fingers), len(frame.tools), len(frame.gestures()))\n",
    "    tip = None\n",
    "    if len(frame.hands)>0:\n",
    "        hand1 = frame.hands[0]\n",
    "        fingers = hand1.fingers.finger_type(1)\n",
    "        if len(fingers):\n",
    "            tip = fingers[0].tip_position\n",
    "            tip_s=\"(%5.1f, %5.1f, %5.1f)\"%(tip[0], tip[1], tip[2])\n",
    "            #cv2.circle(img, (int(400-tip[0]*2), int(H-tip[1]*2)), 10, (0,0,255), -1)\n",
    "            if cm is not None:\n",
    "                xy = cv2.projectPoints(np.float32([(tip[0], tip[1], tip[2])]), rvec[0], tvec[0], cm, dist)[0][0][0]\n",
    "                cv2.circle(img, (int(xy[0]), int(xy[1])), 10, (0,255,0), -1)\n",
    "        else:\n",
    "            tip_s=\"\"\n",
    "        hand1txt.value = \"pinch %5.2f, grab %5.2f, tip %s\"%(hand1.pinch_strength, hand1.grab_strength, tip_s)\n",
    "    else:\n",
    "        hand1txt.value = \"\"\n",
    "    \n",
    "    if  keycode == ord('q'):\n",
    "        break\n",
    "    elif keycode == ord(' '):\n",
    "        if tip:\n",
    "            screen_pos.append((int(test_pos[idx][0]*W), int(test_pos[idx][1]*H)))\n",
    "            result.append((tip[0], tip[1], tip[2]))\n",
    "            idx += 1\n",
    "            if idx >= len(test_pos):\n",
    "                idx = 0\n",
    "    cv2.circle(img, (int(test_pos[idx][0]*W), int(test_pos[idx][1]*H)), 10, (0,0,255) if tip else (255,0,0), -1)\n",
    "    img = cv2.flip(img, 1)\n",
    "    cv2.imshow('frame', img)\n",
    "\n",
    "    #time.sleep(0.3)\n",
    "cv2.destroyWindow('frame')\n",
    "cap.release()\n",
    "controller.clear_policy(Leap.Controller.POLICY_BACKGROUND_FRAMES)"
   ]
  },
  {
   "cell_type": "code",
   "execution_count": 7,
   "metadata": {
    "collapsed": false
   },
   "outputs": [
    {
     "data": {
      "text/plain": [
       "True"
      ]
     },
     "execution_count": 7,
     "metadata": {},
     "output_type": "execute_result"
    }
   ],
   "source": [
    "controller.enable_gesture(Leap.Gesture.TYPE_SCREEN_TAP)\n",
    "controller.is_gesture_enabled(Leap.Gesture.TYPE_SCREEN_TAP)"
   ]
  },
  {
   "cell_type": "code",
   "execution_count": 10,
   "metadata": {
    "collapsed": false
   },
   "outputs": [
    {
     "name": "stdout",
     "output_type": "stream",
     "text": [
      "[(128, 72), (128, 360), (128, 648), (640, 72), (640, 360), (640, 648), (1152, 72), (1152, 360), (1152, 648)]\n"
     ]
    }
   ],
   "source": [
    "print screen_pos"
   ]
  },
  {
   "cell_type": "code",
   "execution_count": 11,
   "metadata": {
    "collapsed": false
   },
   "outputs": [
    {
     "data": {
      "text/plain": [
       "(720, 1280, 3)"
      ]
     },
     "execution_count": 11,
     "metadata": {},
     "output_type": "execute_result"
    }
   ],
   "source": [
    "img.shape"
   ]
  },
  {
   "cell_type": "code",
   "execution_count": 12,
   "metadata": {
    "collapsed": false
   },
   "outputs": [
    {
     "data": {
      "text/plain": [
       "1.0"
      ]
     },
     "execution_count": 12,
     "metadata": {},
     "output_type": "execute_result"
    }
   ],
   "source": [
    "hand1.pinch_strength"
   ]
  },
  {
   "cell_type": "code",
   "execution_count": 13,
   "metadata": {
    "collapsed": false
   },
   "outputs": [],
   "source": [
    "cv2.imshow('frame', img)"
   ]
  },
  {
   "cell_type": "code",
   "execution_count": 14,
   "metadata": {
    "collapsed": false
   },
   "outputs": [],
   "source": [
    "cv2.destroyAllWindows()"
   ]
  },
  {
   "cell_type": "code",
   "execution_count": 25,
   "metadata": {
    "collapsed": false
   },
   "outputs": [
    {
     "data": {
      "text/plain": [
       "(1280, 720, array([[  1.25542912e+03,   0.00000000e+00,   1.52301811e+03],\n",
       "        [  0.00000000e+00,   1.23283056e+03,   8.61007986e+02],\n",
       "        [  0.00000000e+00,   0.00000000e+00,   1.00000000e+00]]), array([[ 0.9896609 ,  0.96278123, -0.12145149,  0.13899587, -1.54373026]]), array([[  1.25542912e+03,   0.00000000e+00,   1.52301811e+03],\n",
       "        [  0.00000000e+00,   1.23283056e+03,   8.61007986e+02],\n",
       "        [  0.00000000e+00,   0.00000000e+00,   1.00000000e+00]]), array([[ 0.9896609 ,  0.96278123, -0.12145149,  0.13899587, -1.54373026]]))"
      ]
     },
     "execution_count": 25,
     "metadata": {},
     "output_type": "execute_result"
    }
   ],
   "source": [
    "W,H, cm0, dist0, cm, dist"
   ]
  },
  {
   "cell_type": "code",
   "execution_count": 36,
   "metadata": {
    "collapsed": false
   },
   "outputs": [
    {
     "name": "stdout",
     "output_type": "stream",
     "text": [
      "26.8715609103 [array([[-0.26427672],\n",
      "       [-0.55774494],\n",
      "       [-3.00818871]])] [array([[  83.29685304],\n",
      "       [ 256.72519277],\n",
      "       [ 348.94659115]])] [[  1.73010332e+03   0.00000000e+00   2.47896386e+02]\n",
      " [  0.00000000e+00   1.62370067e+03   4.57490497e+02]\n",
      " [  0.00000000e+00   0.00000000e+00   1.00000000e+00]] [[-1.17388728  6.16117009 -0.0321941  -0.07398026 -8.2742761 ]]\n"
     ]
    }
   ],
   "source": [
    "screen_pos2 = [(W-1-x, y) for (x,y) in screen_pos]\n",
    "retval, cm, dist, rvec, tvec = cv2.calibrateCamera(np.float32([result]), \n",
    "                                                   np.float32([screen_pos]), (W, H), cm0.copy(), dist0.copy(),\n",
    "                                                   flags=cv2.CALIB_USE_INTRINSIC_GUESS)\n",
    "print retval, rvec, tvec, cm, dist"
   ]
  },
  {
   "cell_type": "code",
   "execution_count": 48,
   "metadata": {
    "collapsed": false
   },
   "outputs": [
    {
     "name": "stdout",
     "output_type": "stream",
     "text": [
      "True [array([[ 0.03590161],\n",
      "       [-0.6163393 ],\n",
      "       [-3.06629999]])] [array([[  -1.86198648],\n",
      "       [ 262.13185195],\n",
      "       [ 282.57265977]])] [[  1.25542912e+03   0.00000000e+00   6.39500000e+02]\n",
      " [  0.00000000e+00   1.23283056e+03   3.59500000e+02]\n",
      " [  0.00000000e+00   0.00000000e+00   1.00000000e+00]]\n"
     ]
    }
   ],
   "source": [
    "screen_pos2 = [(W-1-x, y) for (x,y) in screen_pos]\n",
    "retval, rvec, tvec = cv2.solvePnP(np.float32([result]), \n",
    "                                                   np.float32([screen_pos]),  cm0, dist0)\n",
    "cm, dist=cm0, dist0\n",
    "rvec, tvec=[rvec], [tvec]\n",
    "print retval, rvec, tvec, cm"
   ]
  },
  {
   "cell_type": "code",
   "execution_count": 63,
   "metadata": {
    "collapsed": false
   },
   "outputs": [
    {
     "name": "stdout",
     "output_type": "stream",
     "text": [
      "[array([[ 0.03590161],\n",
      "       [-0.6163393 ],\n",
      "       [-3.06629999]])] [array([[  -1.86198648],\n",
      "       [ 262.13185195],\n",
      "       [ 282.57265977]])] [[  1.25542912e+03   0.00000000e+00   6.39500000e+02]\n",
      " [  0.00000000e+00   1.23283056e+03   3.59500000e+02]\n",
      " [  0.00000000e+00   0.00000000e+00   1.00000000e+00]] [[ 0.54520465 -1.47166739  0.02451086 -0.02110954  1.96975927]]\n"
     ]
    }
   ],
   "source": [
    "print rvec, tvec, cm, dist"
   ]
  },
  {
   "cell_type": "code",
   "execution_count": 101,
   "metadata": {
    "collapsed": false
   },
   "outputs": [
    {
     "name": "stdout",
     "output_type": "stream",
     "text": [
      "[[  1.31746769e-04  -2.26175657e-03  -1.12522828e-02]\n",
      " [ -2.26175657e-03   3.88286016e-02   1.93173046e-01]\n",
      " [ -1.12522828e-02   1.93173046e-01   9.61039652e-01]]\n",
      "[[-0.99964193  0.00896219 -0.02521414]\n",
      " [-0.01800878 -0.92225188  0.38616992]\n",
      " [-0.01979286  0.38648571  0.92208296]]\n",
      "[[-0.9996419   0.00896219 -0.02521414]\n",
      " [-0.01800878 -0.92225185  0.38616992]\n",
      " [-0.01979286  0.38648571  0.92208299]]\n",
      "[[  -1.86198648]\n",
      " [ 262.13185195]\n",
      " [ 282.57265977]] [[ 0.54520465 -1.47166739  0.02451086 -0.02110954  1.96975927]]\n"
     ]
    }
   ],
   "source": [
    "from math import *\n",
    "def rotation(R):\n",
    "    t = np.linalg.norm(R)\n",
    "    u = R/t\n",
    "    uu = u*u.T\n",
    "    I = np.identity(3, dtype=np.float32)\n",
    "    x,y,z = tuple(u.flatten())\n",
    "    ux = np.float32([[0,-z,y],[z,0,-x],[-y,x,0]])\n",
    "    print uu\n",
    "    return cos(t)*I+(1-cos(t))*uu+sin(t)*ux\n",
    "    \n",
    "R=rvec[0]\n",
    "print rotation(R)\n",
    "print cv2.Rodrigues(R)[0]\n",
    "print tvec[0], dist"
   ]
  },
  {
   "cell_type": "code",
   "execution_count": 40,
   "metadata": {
    "collapsed": false
   },
   "outputs": [
    {
     "name": "stdout",
     "output_type": "stream",
     "text": [
      "result 574.522828129 352.242077678\n"
     ]
    }
   ],
   "source": [
    "project([20,299,-20],rvec[0], tvec[0], cm, dist)"
   ]
  },
  {
   "cell_type": "code",
   "execution_count": 20,
   "metadata": {
    "collapsed": true
   },
   "outputs": [
    {
     "ename": "NameError",
     "evalue": "name 'result' is not defined",
     "output_type": "error",
     "traceback": [
      "\u001b[0;31m---------------------------------------------------------------------------\u001b[0m\n\u001b[0;31mNameError\u001b[0m                                 Traceback (most recent call last)",
      "\u001b[0;32m<ipython-input-20-1413450a162b>\u001b[0m in \u001b[0;36m<module>\u001b[0;34m()\u001b[0m\n\u001b[1;32m     23\u001b[0m \u001b[0;34m\u001b[0m\u001b[0m\n\u001b[1;32m     24\u001b[0m \u001b[0;34m\u001b[0m\u001b[0m\n\u001b[0;32m---> 25\u001b[0;31m \u001b[0mresult2\u001b[0m \u001b[0;34m=\u001b[0m \u001b[0mcv2\u001b[0m\u001b[0;34m.\u001b[0m\u001b[0mprojectPoints\u001b[0m\u001b[0;34m(\u001b[0m\u001b[0mnp\u001b[0m\u001b[0;34m.\u001b[0m\u001b[0mfloat32\u001b[0m\u001b[0;34m(\u001b[0m\u001b[0mresult\u001b[0m\u001b[0;34m)\u001b[0m\u001b[0;34m,\u001b[0m \u001b[0mrvec\u001b[0m\u001b[0;34m[\u001b[0m\u001b[0;36m0\u001b[0m\u001b[0;34m]\u001b[0m\u001b[0;34m,\u001b[0m \u001b[0mtvec\u001b[0m\u001b[0;34m[\u001b[0m\u001b[0;36m0\u001b[0m\u001b[0;34m]\u001b[0m\u001b[0;34m,\u001b[0m \u001b[0mcm\u001b[0m\u001b[0;34m,\u001b[0m \u001b[0mdist\u001b[0m\u001b[0;34m[\u001b[0m\u001b[0;36m0\u001b[0m\u001b[0;34m]\u001b[0m\u001b[0;34m)\u001b[0m\u001b[0;34m[\u001b[0m\u001b[0;36m0\u001b[0m\u001b[0;34m]\u001b[0m\u001b[0;34m\u001b[0m\u001b[0m\n\u001b[0m\u001b[1;32m     26\u001b[0m \u001b[0;32mfor\u001b[0m \u001b[0ma\u001b[0m\u001b[0;34m,\u001b[0m\u001b[0mb\u001b[0m\u001b[0;34m,\u001b[0m\u001b[0mc\u001b[0m \u001b[0;32min\u001b[0m \u001b[0mzip\u001b[0m\u001b[0;34m(\u001b[0m\u001b[0mresult2\u001b[0m\u001b[0;34m,\u001b[0m \u001b[0mscreen_pos\u001b[0m\u001b[0;34m,\u001b[0m \u001b[0mresult\u001b[0m\u001b[0;34m)\u001b[0m\u001b[0;34m:\u001b[0m\u001b[0;34m\u001b[0m\u001b[0m\n\u001b[1;32m     27\u001b[0m     \u001b[0;32mprint\u001b[0m \u001b[0ma\u001b[0m\u001b[0;34m,\u001b[0m\u001b[0mb\u001b[0m\u001b[0;34m\u001b[0m\u001b[0m\n",
      "\u001b[0;31mNameError\u001b[0m: name 'result' is not defined"
     ]
    }
   ],
   "source": [
    "\n",
    "    \n",
    "    \n",
    "def project(p, R, T, cm, dist):\n",
    "    x,y,z = tuple(np.dot(cv2.Rodrigues(R)[0], np.float32(p))+T.flatten())\n",
    "    if z < 10:\n",
    "        return -1,-1\n",
    "    x1, y1 = x/z, y/z\n",
    "    x1_2, y1_2 = x1*x1, y1*y1\n",
    "    r2 = x1_2 + y1_2\n",
    "    r4 = r2*r2\n",
    "    r6 = r4*r2\n",
    "    xy = 2*x1*y1\n",
    "    k1, k2, p1, p2, k3 = tuple(dist[0])\n",
    "    x2 = x1*(1+k1*r2+k2*r4+k3*r6)+p1*xy+p2*(3*x1_2+y1_2)\n",
    "    y2 = y1*(1+k1*r2+k2*r4+k3*r6)+p2*xy+p1*(x1_2+3*y1_2)\n",
    "    fx, fy, cx, cy = cm[0][0], cm[1][1], cm[0][2], cm[1][2]\n",
    "    u, v = fx*x2+cx, fy*y2+cy \n",
    "    \n",
    "    \n",
    "    print \"result\", u, v\n",
    "    pass\n",
    "    \n",
    "    \n",
    "result2 = cv2.projectPoints(np.float32(result), rvec[0], tvec[0], cm, dist[0])[0]\n",
    "for a,b,c in zip(result2, screen_pos, result):\n",
    "    print a,b\n",
    "    project(c, rvec[0], tvec[0], cm, dist)"
   ]
  },
  {
   "cell_type": "code",
   "execution_count": 41,
   "metadata": {
    "collapsed": false
   },
   "outputs": [
    {
     "data": {
      "text/plain": [
       "(32.199378948556785,\n",
       " array([[  1.25542912e+03,   0.00000000e+00,  -2.51683528e+02],\n",
       "        [  0.00000000e+00,   1.23283056e+03,   8.63848466e+02],\n",
       "        [  0.00000000e+00,   0.00000000e+00,   1.00000000e+00]]))"
      ]
     },
     "execution_count": 41,
     "metadata": {},
     "output_type": "execute_result"
    }
   ],
   "source": [
    "retval, cm"
   ]
  },
  {
   "cell_type": "code",
   "execution_count": 37,
   "metadata": {
    "collapsed": false
   },
   "outputs": [],
   "source": [
    "cap = cv2.VideoCapture(0)\n",
    "controller.set_policy_flags(Leap.Controller.POLICY_BACKGROUND_FRAMES)\n",
    "txt = TextWidget()\n",
    "txt.set_css({\"width\":\"800px\"})\n",
    "display(txt)\n",
    "hand1txt = TextWidget()\n",
    "hand1txt.set_css({\"width\":\"800px\"})\n",
    "display(hand1txt)\n",
    "def to_np(v):\n",
    "    return np.float32([v[0], v[1], v[2]])\n",
    "def to_tuple(v):\n",
    "    return ([v[0], v[1], v[2]])\n",
    "while True:\n",
    "    ret, img = cap.read()\n",
    "    #img = cv2.resize(img, (960,540))\n",
    "    H, W = img.shape[:2]\n",
    "    frame = controller.frame()\n",
    "    keycode = cv2.waitKey(1) & 0xff\n",
    "        \n",
    "    txt.value = \"Frame id: %d, hands: %d, fingers: %d, tools: %d, gestures: %d\" % (\n",
    "              i, len(frame.hands), len(frame.fingers), len(frame.tools), len(frame.gestures()))\n",
    "    tip = None\n",
    "    for hand1 in frame.hands:\n",
    "        for f in hand1.fingers:\n",
    "            tp = f.tip_position\n",
    "            xy = cv2.projectPoints(np.float32([to_np(tp)]), rvec[0], tvec[0], cm, dist)[0][0][0]\n",
    "            cv2.circle(img, (int(xy[0]), int(xy[1])), 10, (0,255,0), -1)\n",
    "            for bn in range(3):\n",
    "                bone = f.bone(bn)\n",
    "                if bone.is_valid:\n",
    "                    xy1 = cv2.projectPoints(np.float32([to_np(bone.prev_joint)]), rvec[0], tvec[0], cm, dist)[0][0][0]\n",
    "                    xy2 = cv2.projectPoints(np.float32([to_np(bone.next_joint)]), rvec[0], tvec[0], cm, dist)[0][0][0]\n",
    "                    try:\n",
    "                        cv2.line(img, tuple(xy1) , tuple(xy2), (255,255,255) , 3)\n",
    "                        cv2.circle(img, tuple(xy1), 5, (255,255,128), -1)\n",
    "                        cv2.circle(img, tuple(xy2), 5, (255,255,128), -1)\n",
    "                    except:\n",
    "                        pass\n",
    "        fingers = hand1.fingers.finger_type(1)\n",
    "        for f in fingers:\n",
    "            tip = f.tip_position\n",
    "            tip_s=\"(%5.1f, %5.1f, %5.1f)\"%(tip[0], tip[1], tip[2])\n",
    "            xy = cv2.projectPoints(np.float32([(tip[0], tip[1], tip[2])]), rvec[0], tvec[0], cm, dist)[0][0][0]\n",
    "            try:\n",
    "                cv2.circle(img, tuple(xy), 10, (0,0,255), -1)\n",
    "            except:\n",
    "                pass\n",
    "        else:\n",
    "            tip_s=\"\"\n",
    "        hand1txt.value = \"pinch %5.2f, grab %5.2f, tip %s\"%(hand1.pinch_strength, hand1.grab_strength, tip_s)\n",
    "    else:\n",
    "        hand1txt.value = \"\"\n",
    "    \n",
    "    if  keycode == ord('q'):\n",
    "        break\n",
    "    img = cv2.flip(img, 1)\n",
    "    cv2.imshow('frame', img)\n",
    "\n",
    "cv2.destroyWindow('frame')\n",
    "cap.release()\n",
    "controller.clear_policy(Leap.Controller.POLICY_BACKGROUND_FRAMES)"
   ]
  },
  {
   "cell_type": "code",
   "execution_count": 48,
   "metadata": {
    "collapsed": false
   },
   "outputs": [
    {
     "data": {
      "text/plain": [
       "(1280, 720)"
      ]
     },
     "execution_count": 48,
     "metadata": {},
     "output_type": "execute_result"
    }
   ],
   "source": [
    "W,H"
   ]
  },
  {
   "cell_type": "code",
   "execution_count": 31,
   "metadata": {
    "collapsed": false
   },
   "outputs": [
    {
     "data": {
      "text/plain": [
       "(array([[  1.25542912e+03,   0.00000000e+00,   1.52301811e+03],\n",
       "        [  0.00000000e+00,   1.23283056e+03,   8.61007986e+02],\n",
       "        [  0.00000000e+00,   0.00000000e+00,   1.00000000e+00]]),\n",
       " array([[ 0.9896609 ,  0.96278123, -0.12145149,  0.13899587, -1.54373026]]))"
      ]
     },
     "execution_count": 31,
     "metadata": {},
     "output_type": "execute_result"
    }
   ],
   "source": [
    "cm, dist"
   ]
  },
  {
   "cell_type": "code",
   "execution_count": 39,
   "metadata": {
    "collapsed": false
   },
   "outputs": [],
   "source": [
    "cm1, dist1, rvec1, tvec1 = cm.copy(), dist.copy(), [tvec[0].copy()], [rvec[0].copy()]"
   ]
  },
  {
   "cell_type": "code",
   "execution_count": 46,
   "metadata": {
    "collapsed": false
   },
   "outputs": [
    {
     "data": {
      "text/plain": [
       "(array([[   1.37275413],\n",
       "        [ 232.95848011],\n",
       "        [ 227.01332068]]), array([[ 0.08543448],\n",
       "        [-0.42373195],\n",
       "        [-3.10790343]]))"
      ]
     },
     "execution_count": 46,
     "metadata": {},
     "output_type": "execute_result"
    }
   ],
   "source": [
    "tvec[0], rvec[0]"
   ]
  },
  {
   "cell_type": "code",
   "execution_count": 40,
   "metadata": {
    "collapsed": false
   },
   "outputs": [
    {
     "name": "stdout",
     "output_type": "stream",
     "text": [
      "cm=array([[  1.03861216e+03,   0.00000000e+00,   4.59025722e+02],\n",
      "       [  0.00000000e+00,   1.00144358e+03,  -2.26439503e+01],\n",
      "       [  0.00000000e+00,   0.00000000e+00,   1.00000000e+00]])\n",
      "dist=array([[ 0.10414326, -0.52876669, -0.01789585,  0.00671249,  0.25075185]])\n",
      "tvec=[array([[-0.15562133],\n",
      "       [-1.00533923],\n",
      "       [-2.89834584]])]\n",
      "rvec=[array([[  18.30289231],\n",
      "       [ 322.14326406],\n",
      "       [ 119.28120961]])]\n"
     ]
    }
   ],
   "source": [
    "print \"cm=\"+repr(cm1)\n",
    "print \"dist=\"+repr(dist1)\n",
    "print \"tvec=\"+repr(tvec1)\n",
    "print \"rvec=\"+repr(rvec1)"
   ]
  },
  {
   "cell_type": "code",
   "execution_count": 54,
   "metadata": {
    "collapsed": false
   },
   "outputs": [
    {
     "data": {
      "text/plain": [
       "array([[ 0.54520465, -1.47166739,  0.02451086, -0.02110954,  1.96975927]])"
      ]
     },
     "execution_count": 54,
     "metadata": {},
     "output_type": "execute_result"
    }
   ],
   "source": [
    "dist"
   ]
  },
  {
   "cell_type": "code",
   "execution_count": 57,
   "metadata": {
    "collapsed": false
   },
   "outputs": [
    {
     "data": {
      "text/plain": [
       "array([[ 0.03590161],\n",
       "       [-0.6163393 ],\n",
       "       [-3.06629999]])"
      ]
     },
     "execution_count": 57,
     "metadata": {},
     "output_type": "execute_result"
    }
   ],
   "source": [
    "rvec[0]"
   ]
  },
  {
   "cell_type": "code",
   "execution_count": 61,
   "metadata": {
    "collapsed": false
   },
   "outputs": [
    {
     "data": {
      "text/plain": [
       "3.1278361002574147"
      ]
     },
     "execution_count": 61,
     "metadata": {},
     "output_type": "execute_result"
    }
   ],
   "source": [
    "np.linalg.norm(rvec[0])"
   ]
  },
  {
   "cell_type": "code",
   "execution_count": 41,
   "metadata": {
    "collapsed": false
   },
   "outputs": [],
   "source": [
    "cv2.destroyAllWindows()"
   ]
  },
  {
   "cell_type": "code",
   "execution_count": 38,
   "metadata": {
    "collapsed": false
   },
   "outputs": [
    {
     "name": "stdout",
     "output_type": "stream",
     "text": [
      "\n",
      "    ({r:[-0.98270474575889388, 0.10046337812322131, 0.15555864591535323, -0.038018933647139819, -0.93160560344706023, 0.36147691532153625, 0.18123449822614335, 0.34931090633146478, 0.91931275818983871], \n",
      "    t:[83.296853042942487, 256.72519276755503, 348.946591146267], \n",
      "    k1:-1.1738872833, k2:6.16117008947, k3:-8.27427609968, p1:-0.0321941000394, p2:-0.0739802556975, \n",
      "    fx:1730.10332072, fy:1623.70067172, cx:247.896386316, cy:457.490496922})\n"
     ]
    }
   ],
   "source": [
    "print \"\"\"\n",
    "    ({r:%s, \n",
    "    t:%s, \n",
    "    k1:%s, k2:%s, k3:%s, p1:%s, p2:%s, \n",
    "    fx:%s, fy:%s, cx:%s, cy:%s})\"\"\"%(list(cv2.Rodrigues(rvec[0])[0].flatten()), \n",
    "                    list(tvec[0].flatten()),\n",
    "                    dist[0][0], dist[0][1], dist[0][4], dist[0][2], dist[0][3],\n",
    "                    cm[0][0], cm[1][1], cm[0][2],cm[1][2]\n",
    "                    )\n",
    "    \n",
    "#x,y,z = tuple(np.dot(cv2.Rodrigues(R)[0], np.float32(p))+T.flatten())\n",
    "\n",
    "#map(float, cm.flatten())\n"
   ]
  },
  {
   "cell_type": "code",
   "execution_count": null,
   "metadata": {
    "collapsed": false
   },
   "outputs": [],
   "source": [
    "project"
   ]
  }
 ],
 "metadata": {
  "kernelspec": {
   "display_name": "Python 3",
   "language": "python",
   "name": "python3"
  },
  "language_info": {
   "codemirror_mode": {
    "name": "ipython",
    "version": 3
   },
   "file_extension": ".py",
   "mimetype": "text/x-python",
   "name": "python",
   "nbconvert_exporter": "python",
   "pygments_lexer": "ipython3",
   "version": "3.5.2+"
  },
  "widgets": {
   "state": {
    "1523f434d8544f0b81f5d1b760a67202": {
     "views": [
      {
       "cell_index": 8
      }
     ]
    },
    "7daee6f136e7484994d2321dac5449d1": {
     "views": [
      {
       "cell_index": 8
      }
     ]
    },
    "8a5694a63af541baafeb95bb67958717": {
     "views": [
      {
       "cell_index": 8
      }
     ]
    },
    "c56cb52777124776ac3a16fb16ae01e4": {
     "views": [
      {
       "cell_index": 8
      }
     ]
    }
   },
   "version": "1.2.0"
  }
 },
 "nbformat": 4,
 "nbformat_minor": 0
}
