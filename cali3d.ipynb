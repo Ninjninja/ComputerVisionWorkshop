{
 "metadata": {
  "name": "",
  "signature": "sha256:360ba575b58b35766351f0ff128f8a8389727e3967a503b2de13e20259aa0e06"
 },
 "nbformat": 3,
 "nbformat_minor": 0,
 "worksheets": [
  {
   "cells": [
    {
     "cell_type": "code",
     "collapsed": false,
     "input": [
      "import numpy as np\n",
      "import cv2\n",
      "import glob\n",
      "cv2.startWindowThread()"
     ],
     "language": "python",
     "metadata": {},
     "outputs": [
      {
       "metadata": {},
       "output_type": "pyout",
       "prompt_number": 1,
       "text": [
        "0"
       ]
      }
     ],
     "prompt_number": 1
    },
    {
     "cell_type": "code",
     "collapsed": false,
     "input": [
      "# termination criteria\n",
      "criteria = (cv2.TERM_CRITERIA_EPS + cv2.TERM_CRITERIA_MAX_ITER, 30, 0.001)\n",
      "\n",
      "# prepare object points, like (0,0,0), (1,0,0), (2,0,0) ....,(6,5,0)\n",
      "objp = np.zeros((6*7,3), np.float32)\n",
      "objp[:,:2] = np.mgrid[0:7,0:6].T.reshape(-1,2)\n",
      "\n",
      "# Arrays to store object points and image points from all the images.\n",
      "objpoints = [] # 3d point in real world space\n",
      "imgpoints = [] # 2d points in image plane.\n",
      "cap = cv2.VideoCapture(0)\n",
      "while True:\n",
      "    ret, img = cap.read()\n",
      "    #img = cv2.resize(img, (960,540))\n",
      "    cv2.imshow(\"cap\", img)\n",
      "    if cv2.waitKey(1) & 0xff ==ord('q'):\n",
      "        break\n",
      "cv2.destroyAllWindows()\n",
      "    \n",
      "gray = cv2.cvtColor(img,cv2.COLOR_BGR2GRAY)\n",
      "gray = cv2.threshold(gray, 100, 255, cv2.THRESH_BINARY)[1]\n",
      "\n",
      "# Find the chess board corners\n",
      "ret, corners = cv2.findChessboardCorners(gray, (3,3),None)\n",
      "\n",
      "# If found, add object points, image points (after refining them)\n",
      "if ret == True:\n",
      "    objpoints.append(objp)\n",
      "\n",
      "    corners2 = cv2.cornerSubPix(gray,corners,(11,11),(-1,-1),criteria)\n",
      "    imgpoints.append(corners2)\n",
      "\n",
      "    # Draw and display the corners\n",
      "    img = cv2.drawChessboardCorners(img, (3,3), corners2,ret)\n",
      "    cv2.imshow('img',img)\n",
      "    cv2.waitKey(500)\n",
      "\n",
      "cv2.destroyAllWindows()"
     ],
     "language": "python",
     "metadata": {},
     "outputs": [],
     "prompt_number": 151
    },
    {
     "cell_type": "code",
     "collapsed": false,
     "input": [
      "cv2.imshow(\"gray\", gray)"
     ],
     "language": "python",
     "metadata": {},
     "outputs": [],
     "prompt_number": 85
    },
    {
     "cell_type": "code",
     "collapsed": false,
     "input": [
      "cv2.destroyAllWindows()"
     ],
     "language": "python",
     "metadata": {},
     "outputs": [],
     "prompt_number": 86
    },
    {
     "cell_type": "code",
     "collapsed": false,
     "input": [
      "ret, corners = cv2.findChessboardCorners(gray, (3,3))\n",
      "print ret, corners"
     ],
     "language": "python",
     "metadata": {},
     "outputs": [
      {
       "output_type": "stream",
       "stream": "stdout",
       "text": [
        "False None\n"
       ]
      }
     ],
     "prompt_number": 87
    },
    {
     "cell_type": "code",
     "collapsed": false,
     "input": [
      "corners2 = cv2.cornerSubPix(gray,corners,(11,11),(-1,-1),criteria)"
     ],
     "language": "python",
     "metadata": {},
     "outputs": [],
     "prompt_number": 61
    },
    {
     "cell_type": "code",
     "collapsed": false,
     "input": [
      "img2 = cv2.drawChessboardCorners(img, (4,3), corners2,ret)"
     ],
     "language": "python",
     "metadata": {},
     "outputs": [],
     "prompt_number": 62
    },
    {
     "cell_type": "code",
     "collapsed": false,
     "input": [
      "for v in corners:\n",
      "    print v\n",
      "    cv2.circle(img, (int(v[0][0]), int(v[0][1])), 10, (255,0,0), -1)\n",
      "cv2.imshow(\"gray\", img)"
     ],
     "language": "python",
     "metadata": {},
     "outputs": [
      {
       "output_type": "stream",
       "stream": "stdout",
       "text": [
        "[[ 402.99301147   96.81558228]]\n",
        "[[ 491.25512695   96.42333221]]\n",
        "[[ 579.9977417    93.96593475]]\n",
        "[[ 669.39044189   91.74327087]]\n",
        "[[ 403.8656311   184.89509583]]\n",
        "[[ 492.74829102  183.44883728]]\n",
        "[[ 582.48382568  181.38143921]]\n",
        "[[ 673.26464844  179.21730042]]\n",
        "[[ 403.93920898  273.14904785]]\n",
        "[[ 494.31103516  271.68325806]]\n",
        "[[ 585.34643555  270.222229  ]]\n",
        "[[ 676.86560059  268.77697754]]\n"
       ]
      }
     ],
     "prompt_number": 78
    },
    {
     "cell_type": "code",
     "collapsed": false,
     "input": [
      "img2"
     ],
     "language": "python",
     "metadata": {},
     "outputs": [],
     "prompt_number": 64
    },
    {
     "cell_type": "code",
     "collapsed": false,
     "input": [
      "img.shape"
     ],
     "language": "python",
     "metadata": {},
     "outputs": [
      {
       "metadata": {},
       "output_type": "pyout",
       "prompt_number": 83,
       "text": [
        "(720, 1280, 3)"
       ]
      }
     ],
     "prompt_number": 83
    },
    {
     "cell_type": "code",
     "collapsed": false,
     "input": [
      "from PIL import Image as PIL_Image\n",
      "im = PIL_Image.fromarray(img)\n",
      "with open(\"/Users/tjw/Dropbox/cal5.png\", \"wb\") as f:\n",
      "    im.save(f, format='png')\n"
     ],
     "language": "python",
     "metadata": {},
     "outputs": [],
     "prompt_number": 152
    },
    {
     "cell_type": "code",
     "collapsed": false,
     "input": [
      "screen_xy =np.float32(\n",
      "[ (606,179), (579,217), (552,258), (523,301), (491,349), (456,401),\n",
      "  (660,201), (636,241), (611,282), (584,327), (554,377), (522,430),\n",
      "  (717,224), (695,264), (672,307), (647,354), (619,404), (689,459),\n",
      "  (773,247), (753,288), (732,332), (709,380), (683,432), (657,489),\n",
      "  (830,272), (812,312), (794,358), (772,408), (750,462), (725,520),\n",
      "  (888,296), (874,338), (856,386), (836,436), (816,492), (796,550),\n",
      "  (948,320), (934,363), (920,412), (902,466), (885,522), (867,583),\n",
      " ])"
     ],
     "language": "python",
     "metadata": {},
     "outputs": [],
     "prompt_number": 2
    },
    {
     "cell_type": "code",
     "collapsed": false,
     "input": [
      "screen_xy2 =np.float32(\n",
      "[ (520,158),(498.5,193),(478,230), (456,268), (434,308), (412,348),\n",
      "  (560,172), (540,210), (520,246), (500,285), (478,326), (456,366),\n",
      "  (602,189), (582,226), (563,264), (544,304), (522,344), (501,386), \n",
      "  (644,206), (626,242), (606,281), (587,320), (566,362), (544,406),\n",
      "  (686,222), (668,260), (650,299), (630,338), (611,380), (591,424),\n",
      "  (729,239), (712,277), (694,317), (676,358), (656,398), (636,442),\n",
      "  (772,256), (755,295), (738,334), (720,376), (702,417), (683,462),\n",
      " ])"
     ],
     "language": "python",
     "metadata": {},
     "outputs": [],
     "prompt_number": 3
    },
    {
     "cell_type": "code",
     "collapsed": false,
     "input": [
      "screen_xy3 =np.float32(\n",
      "[ (692,182), (677,239), (663,298), (648,358), (635,417), (621,479),\n",
      "  (743,185), (729,244), (713,303), (700,365), (685,427), (671,492),\n",
      "  (801,186), (784,247), (771,310), (755,375), (741,439), (727,505),\n",
      "  (861,189), (845,252), (830,317), (816,384), (802,451), (786,521),\n",
      "  (927,191), (911,258), (895,324), (880,393), (865,464), (851,536),\n",
      "  (996,193), (981,263), (966,333), (951,405), (936,479), (921,554),\n",
      "  (1073,195),(1058,268),(1043,342),(1027,417),(1013,494), (998,573),\n",
      " ])"
     ],
     "language": "python",
     "metadata": {},
     "outputs": [],
     "prompt_number": 4
    },
    {
     "cell_type": "code",
     "collapsed": false,
     "input": [
      "screen_xy4 =np.float32(\n",
      "[ (870,448), (885,539), (900,638), \n",
      "  (928,412), (948,508), (969,614),\n",
      "  (999,370), (1024,474), (1050,586),\n",
      " ])"
     ],
     "language": "python",
     "metadata": {},
     "outputs": [],
     "prompt_number": 5
    },
    {
     "cell_type": "code",
     "collapsed": false,
     "input": [
      "screen_xy5 =np.float32(\n",
      "[ (248,113), (162,169), (78,227), \n",
      "  (289,191), (201,250), (113,309),\n",
      "  (333,275), (242,335), (152,397),\n",
      " ])"
     ],
     "language": "python",
     "metadata": {},
     "outputs": [],
     "prompt_number": 6
    },
    {
     "cell_type": "code",
     "collapsed": false,
     "input": [
      "obj_xyz = np.float32([ (i*24.8, j*25, 0) for j in range(7) for i in range(6)])\n",
      "obj_xyz2 = np.float32([ (i*49.6, j*50, 0) for j in range(3) for i in range(3)])\n",
      "        "
     ],
     "language": "python",
     "metadata": {},
     "outputs": [],
     "prompt_number": 7
    },
    {
     "cell_type": "code",
     "collapsed": false,
     "input": [
      "retval, cm, dist, rvec, tvec = cv2.calibrateCamera([obj_xyz]*3+[obj_xyz2]*2, \n",
      "                                                   [screen_xy, screen_xy2, screen_xy3, screen_xy4, screen_xy5], \n",
      "                                                   (1280,720), \n",
      "                    flags=cv2.CALIB_FIX_PRINCIPAL_POINT)\n",
      "print retval, cm, dist, rvec, tvec"
     ],
     "language": "python",
     "metadata": {},
     "outputs": [
      {
       "output_type": "stream",
       "stream": "stdout",
       "text": [
        "7.90872720232 [[  1.25542912e+03   0.00000000e+00   6.39500000e+02]\n",
        " [  0.00000000e+00   1.23283056e+03   3.59500000e+02]\n",
        " [  0.00000000e+00   0.00000000e+00   1.00000000e+00]] [[ 0.54520465 -1.47166739  0.02451086 -0.02110954  1.96975927]] [array([[ 1.41241102],\n",
        "       [ 2.19991658],\n",
        "       [-0.50506866]]), array([[ 1.60779065],\n",
        "       [ 2.46823864],\n",
        "       [-0.42296251]]), array([[-1.71457261],\n",
        "       [-2.09538915],\n",
        "       [ 0.80886066]]), array([[-1.89400434],\n",
        "       [-1.34745604],\n",
        "       [ 1.32235519]]), array([[-0.76873426],\n",
        "       [-2.71257764],\n",
        "       [ 0.44418567]])] [array([[ -15.13952009],\n",
        "       [ -76.82469357],\n",
        "       [ 512.28287714]]), array([[ -65.59275105],\n",
        "       [-113.30575159],\n",
        "       [ 689.41154446]]), array([[  20.91618997],\n",
        "       [ -72.6774998 ],\n",
        "       [ 501.91441598]]), array([[ 120.41923749],\n",
        "       [  45.88333541],\n",
        "       [ 666.57646699]]), array([[-182.78711496],\n",
        "       [-120.43544533],\n",
        "       [ 620.2542912 ]])]\n"
       ]
      }
     ],
     "prompt_number": 8
    },
    {
     "cell_type": "code",
     "collapsed": false,
     "input": [
      "result2 = cv2.projectPoints(obj_xyz, rvec[2], tvec[2], cm, dist)[0]"
     ],
     "language": "python",
     "metadata": {},
     "outputs": [],
     "prompt_number": 179
    },
    {
     "cell_type": "code",
     "collapsed": false,
     "input": [
      "for a,b in zip(result2, screen_xy3):\n",
      "    print a,b"
     ],
     "language": "python",
     "metadata": {},
     "outputs": [
      {
       "output_type": "stream",
       "stream": "stdout",
       "text": [
        "[[ 691.36126709  181.17431641]] [ 692.  182.]\n",
        "[[ 677.309021    239.59849548]] [ 677.  239.]\n",
        "[[ 663.12487793  298.27420044]] [ 663.  298.]\n",
        "[[ 648.71411133  357.5916748 ]] [ 648.  358.]\n",
        "[[ 633.95819092  418.03103638]] [ 635.  417.]\n",
        "[[ 618.72821045  480.1071167 ]] [ 621.  479.]\n",
        "[[ 743.90600586  183.42628479]] [ 743.  185.]\n",
        "[[ 729.52178955  243.70318604]] [ 729.  244.]\n",
        "[[ 715.11676025  304.24118042]] [ 713.  303.]\n",
        "[[ 700.61572266  365.45474243]] [ 700.  365.]\n",
        "[[ 685.90618896  427.86199951]] [ 685.  427.]\n",
        "[[ 670.85125732  492.02151489]] [ 671.  492.]\n",
        "[[ 800.03717041  185.65052795]] [ 801.  186.]\n",
        "[[ 785.28387451  247.98410034]] [ 784.  247.]\n",
        "[[ 770.62109375  310.61349487]] [ 771.  310.]\n",
        "[[ 756.00189209  373.97091675]] [ 755.  375.]\n",
        "[[ 741.32659912  438.60577393]] [ 741.  439.]\n",
        "[[ 726.45355225  505.11352539]] [ 727.  505.]\n",
        "[[ 860.38726807  187.88978577]] [ 861.  189.]\n",
        "[[ 845.26208496  252.5058136 ]] [ 845.  252.]\n",
        "[[ 830.32757568  317.4864502 ]] [ 830.  317.]\n",
        "[[ 815.5737915   383.27230835]] [ 816.  384.]\n",
        "[[ 800.92102051  450.43353271]] [ 802.  451.]\n",
        "[[ 786.22717285  519.59100342]] [ 786.  521.]\n",
        "[[ 925.63806152  190.22387695]] [ 927.  191.]\n",
        "[[ 910.19018555  257.36453247]] [ 911.  258.]\n",
        "[[ 895.00836182  324.98129272]] [ 895.  324.]\n",
        "[[ 880.12615967  393.51144409]] [ 880.  393.]\n",
        "[[ 865.49023438  463.53097534]] [ 865.  464.]\n",
        "[[ 850.96295166  535.66949463]] [ 851.  536.]\n",
        "[[ 996.46655273  192.7759552 ]] [ 996.  193.]\n",
        "[[ 980.81079102  262.69204712]] [ 981.  263.]\n",
        "[[ 965.45922852  333.24438477]] [ 966.  333.]"
       ]
      },
      {
       "output_type": "stream",
       "stream": "stdout",
       "text": [
        "\n",
        "[[ 950.48913574  404.85421753]] [ 951.  405.]\n",
        "[[ 935.87768555  478.08459473]] [ 936.  479.]\n",
        "[[ 921.49639893  553.5524292 ]] [ 921.  554.]\n",
        "[[ 1073.48962402   195.70857239]] [ 1073.   195.]\n",
        "[[ 1057.80126953   268.6534729 ]] [ 1058.   268.]\n",
        "[[ 1042.41516113   342.44177246]] [ 1043.   342.]\n",
        "[[ 1027.44055176   417.46865845]] [ 1027.   417.]\n",
        "[[ 1012.88256836   494.26437378]] [ 1013.   494.]\n",
        "[[ 998.6262207  573.409729 ]] [ 998.  573.]\n"
       ]
      }
     ],
     "prompt_number": 180
    },
    {
     "cell_type": "code",
     "collapsed": false,
     "input": [],
     "language": "python",
     "metadata": {},
     "outputs": []
    }
   ],
   "metadata": {}
  }
 ]
}